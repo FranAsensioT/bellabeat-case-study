{
 "cells": [
  {
   "cell_type": "markdown",
   "id": "25d0d2d8",
   "metadata": {
    "papermill": {
     "duration": 0.0086,
     "end_time": "2025-04-28T19:33:27.890213",
     "exception": false,
     "start_time": "2025-04-28T19:33:27.881613",
     "status": "completed"
    },
    "tags": []
   },
   "source": [
    "# Case Study Introduction: Data Analysis for Bellabeat\n",
    "\n",
    "#### In this case study, I take on the role of a junior data analyst at Bellabeat, a wellness technology company that creates smart health-focused products for women. My goal is to apply the data analysis process to explore how people use smart devices and uncover insights that can help guide Bellabeat’s marketing strategy.\n",
    "\n",
    "#### Bellabeat offers a range of products, including the Bellabeat app, the Leaf wellness tracker, the Time smart watch, and the Spring smart water bottle, all of which track user's daily habits such as activity, sleep, hydration, and stress levels. To better understand consumer behavior, I analyzed a publicly available dataset from Fitbit users, focusing on identifying usage patterns and wellness trends.\n",
    "\n",
    "#### The goal of this case study is to analyze public data from Fitbit users to **identify key trends in smart device usage and translate those insights into actionable marketing strategies for Bellabeat**."
   ]
  },
  {
   "cell_type": "markdown",
   "id": "eb133267",
   "metadata": {
    "papermill": {
     "duration": 0.007161,
     "end_time": "2025-04-28T19:33:27.905421",
     "exception": false,
     "start_time": "2025-04-28T19:33:27.898260",
     "status": "completed"
    },
    "tags": []
   },
   "source": [
    "## Key Stakeholders\n",
    "\n",
    "* **Urška Sršen:** Bellabeat’s cofounder and Chief Creative Officer\n",
    "* **Sando Mur:** Mathematician and Bellabeat’s cofounder; key member of the Bellabeat executive team\n",
    "* **Bellabeat marketing analytics team:** A team of data analysts responsible for collecting, analyzing, and reporting data that helps guide Bellabeat’s marketing strategy. \n"
   ]
  },
  {
   "cell_type": "markdown",
   "id": "ca9888b2",
   "metadata": {
    "papermill": {
     "duration": 0.007122,
     "end_time": "2025-04-28T19:33:27.919995",
     "exception": false,
     "start_time": "2025-04-28T19:33:27.912873",
     "status": "completed"
    },
    "tags": []
   },
   "source": [
    "## The Data\n",
    "\n",
    "#### The data used in this study was provided by Sršen and comes from a public dataset available on Kaggle. We will use two dataframes and merge them, the first one contains information from 30 users of the Fitbit fitness app, from April 12, 2016, to May 12, 2016, including data on daily activity, steps, and heart rate. The second one contains information about sleep rutines from some of those users. This data can be used to explore users' habits. "
   ]
  },
  {
   "cell_type": "markdown",
   "id": "25c15785",
   "metadata": {
    "papermill": {
     "duration": 0.007131,
     "end_time": "2025-04-28T19:33:27.934659",
     "exception": false,
     "start_time": "2025-04-28T19:33:27.927528",
     "status": "completed"
    },
    "tags": []
   },
   "source": [
    "## Setting up the environment\n",
    "\n",
    "#### The analysis will be performed in Python, so we'll begin by importing the required libraries."
   ]
  },
  {
   "cell_type": "code",
   "execution_count": 1,
   "id": "036ee3ee",
   "metadata": {
    "execution": {
     "iopub.execute_input": "2025-04-28T19:33:27.950969Z",
     "iopub.status.busy": "2025-04-28T19:33:27.950534Z",
     "iopub.status.idle": "2025-04-28T19:33:31.910145Z",
     "shell.execute_reply": "2025-04-28T19:33:31.909033Z"
    },
    "papermill": {
     "duration": 3.969908,
     "end_time": "2025-04-28T19:33:31.911957",
     "exception": false,
     "start_time": "2025-04-28T19:33:27.942049",
     "status": "completed"
    },
    "tags": []
   },
   "outputs": [],
   "source": [
    "import re\n",
    "import pandas as pd\n",
    "import numpy as np\n",
    "import seaborn as sns\n",
    "import matplotlib.pyplot as plt\n",
    "import warnings\n",
    "warnings.filterwarnings('ignore')\n",
    "\n",
    "%matplotlib inline"
   ]
  },
  {
   "cell_type": "markdown",
   "id": "7e7053b4",
   "metadata": {
    "papermill": {
     "duration": 0.007099,
     "end_time": "2025-04-28T19:33:31.927192",
     "exception": false,
     "start_time": "2025-04-28T19:33:31.920093",
     "status": "completed"
    },
    "tags": []
   },
   "source": [
    "## Importing Dataset\n",
    "#### The data is public and available on Kaggle, which makes it easy to incorporate into the notebook. We use the pandas library to read the .CSV files. Then, we use `info` to see a quick and informative overview of the dataframes."
   ]
  },
  {
   "cell_type": "code",
   "execution_count": 2,
   "id": "7ec32c3d",
   "metadata": {
    "execution": {
     "iopub.execute_input": "2025-04-28T19:33:31.943244Z",
     "iopub.status.busy": "2025-04-28T19:33:31.942835Z",
     "iopub.status.idle": "2025-04-28T19:33:32.006176Z",
     "shell.execute_reply": "2025-04-28T19:33:32.005319Z"
    },
    "papermill": {
     "duration": 0.073302,
     "end_time": "2025-04-28T19:33:32.007807",
     "exception": false,
     "start_time": "2025-04-28T19:33:31.934505",
     "status": "completed"
    },
    "tags": []
   },
   "outputs": [],
   "source": [
    "activity_data = pd.read_csv('/kaggle/input/fitbit/mturkfitbit_export_4.12.16-5.12.16/Fitabase Data 4.12.16-5.12.16/dailyActivity_merged.csv')\n",
    "sleep_data = pd.read_csv('/kaggle/input/fitbit/mturkfitbit_export_4.12.16-5.12.16/Fitabase Data 4.12.16-5.12.16/sleepDay_merged.csv')"
   ]
  },
  {
   "cell_type": "markdown",
   "id": "d310e693",
   "metadata": {
    "papermill": {
     "duration": 0.007192,
     "end_time": "2025-04-28T19:33:32.022763",
     "exception": false,
     "start_time": "2025-04-28T19:33:32.015571",
     "status": "completed"
    },
    "tags": []
   },
   "source": [
    "#### Let's see what the structure of these dataframes is like."
   ]
  },
  {
   "cell_type": "code",
   "execution_count": 3,
   "id": "11ba9121",
   "metadata": {
    "execution": {
     "iopub.execute_input": "2025-04-28T19:33:32.038832Z",
     "iopub.status.busy": "2025-04-28T19:33:32.038475Z",
     "iopub.status.idle": "2025-04-28T19:33:32.067741Z",
     "shell.execute_reply": "2025-04-28T19:33:32.066687Z"
    },
    "papermill": {
     "duration": 0.039202,
     "end_time": "2025-04-28T19:33:32.069338",
     "exception": false,
     "start_time": "2025-04-28T19:33:32.030136",
     "status": "completed"
    },
    "tags": []
   },
   "outputs": [
    {
     "data": {
      "text/html": [
       "<div>\n",
       "<style scoped>\n",
       "    .dataframe tbody tr th:only-of-type {\n",
       "        vertical-align: middle;\n",
       "    }\n",
       "\n",
       "    .dataframe tbody tr th {\n",
       "        vertical-align: top;\n",
       "    }\n",
       "\n",
       "    .dataframe thead th {\n",
       "        text-align: right;\n",
       "    }\n",
       "</style>\n",
       "<table border=\"1\" class=\"dataframe\">\n",
       "  <thead>\n",
       "    <tr style=\"text-align: right;\">\n",
       "      <th></th>\n",
       "      <th>Id</th>\n",
       "      <th>ActivityDate</th>\n",
       "      <th>TotalSteps</th>\n",
       "      <th>TotalDistance</th>\n",
       "      <th>TrackerDistance</th>\n",
       "      <th>LoggedActivitiesDistance</th>\n",
       "      <th>VeryActiveDistance</th>\n",
       "      <th>ModeratelyActiveDistance</th>\n",
       "      <th>LightActiveDistance</th>\n",
       "      <th>SedentaryActiveDistance</th>\n",
       "      <th>VeryActiveMinutes</th>\n",
       "      <th>FairlyActiveMinutes</th>\n",
       "      <th>LightlyActiveMinutes</th>\n",
       "      <th>SedentaryMinutes</th>\n",
       "      <th>Calories</th>\n",
       "    </tr>\n",
       "  </thead>\n",
       "  <tbody>\n",
       "    <tr>\n",
       "      <th>0</th>\n",
       "      <td>1503960366</td>\n",
       "      <td>4/12/2016</td>\n",
       "      <td>13162</td>\n",
       "      <td>8.50</td>\n",
       "      <td>8.50</td>\n",
       "      <td>0.0</td>\n",
       "      <td>1.88</td>\n",
       "      <td>0.55</td>\n",
       "      <td>6.06</td>\n",
       "      <td>0.0</td>\n",
       "      <td>25</td>\n",
       "      <td>13</td>\n",
       "      <td>328</td>\n",
       "      <td>728</td>\n",
       "      <td>1985</td>\n",
       "    </tr>\n",
       "    <tr>\n",
       "      <th>1</th>\n",
       "      <td>1503960366</td>\n",
       "      <td>4/13/2016</td>\n",
       "      <td>10735</td>\n",
       "      <td>6.97</td>\n",
       "      <td>6.97</td>\n",
       "      <td>0.0</td>\n",
       "      <td>1.57</td>\n",
       "      <td>0.69</td>\n",
       "      <td>4.71</td>\n",
       "      <td>0.0</td>\n",
       "      <td>21</td>\n",
       "      <td>19</td>\n",
       "      <td>217</td>\n",
       "      <td>776</td>\n",
       "      <td>1797</td>\n",
       "    </tr>\n",
       "    <tr>\n",
       "      <th>2</th>\n",
       "      <td>1503960366</td>\n",
       "      <td>4/14/2016</td>\n",
       "      <td>10460</td>\n",
       "      <td>6.74</td>\n",
       "      <td>6.74</td>\n",
       "      <td>0.0</td>\n",
       "      <td>2.44</td>\n",
       "      <td>0.40</td>\n",
       "      <td>3.91</td>\n",
       "      <td>0.0</td>\n",
       "      <td>30</td>\n",
       "      <td>11</td>\n",
       "      <td>181</td>\n",
       "      <td>1218</td>\n",
       "      <td>1776</td>\n",
       "    </tr>\n",
       "    <tr>\n",
       "      <th>3</th>\n",
       "      <td>1503960366</td>\n",
       "      <td>4/15/2016</td>\n",
       "      <td>9762</td>\n",
       "      <td>6.28</td>\n",
       "      <td>6.28</td>\n",
       "      <td>0.0</td>\n",
       "      <td>2.14</td>\n",
       "      <td>1.26</td>\n",
       "      <td>2.83</td>\n",
       "      <td>0.0</td>\n",
       "      <td>29</td>\n",
       "      <td>34</td>\n",
       "      <td>209</td>\n",
       "      <td>726</td>\n",
       "      <td>1745</td>\n",
       "    </tr>\n",
       "    <tr>\n",
       "      <th>4</th>\n",
       "      <td>1503960366</td>\n",
       "      <td>4/16/2016</td>\n",
       "      <td>12669</td>\n",
       "      <td>8.16</td>\n",
       "      <td>8.16</td>\n",
       "      <td>0.0</td>\n",
       "      <td>2.71</td>\n",
       "      <td>0.41</td>\n",
       "      <td>5.04</td>\n",
       "      <td>0.0</td>\n",
       "      <td>36</td>\n",
       "      <td>10</td>\n",
       "      <td>221</td>\n",
       "      <td>773</td>\n",
       "      <td>1863</td>\n",
       "    </tr>\n",
       "  </tbody>\n",
       "</table>\n",
       "</div>"
      ],
      "text/plain": [
       "           Id ActivityDate  TotalSteps  TotalDistance  TrackerDistance  \\\n",
       "0  1503960366    4/12/2016       13162           8.50             8.50   \n",
       "1  1503960366    4/13/2016       10735           6.97             6.97   \n",
       "2  1503960366    4/14/2016       10460           6.74             6.74   \n",
       "3  1503960366    4/15/2016        9762           6.28             6.28   \n",
       "4  1503960366    4/16/2016       12669           8.16             8.16   \n",
       "\n",
       "   LoggedActivitiesDistance  VeryActiveDistance  ModeratelyActiveDistance  \\\n",
       "0                       0.0                1.88                      0.55   \n",
       "1                       0.0                1.57                      0.69   \n",
       "2                       0.0                2.44                      0.40   \n",
       "3                       0.0                2.14                      1.26   \n",
       "4                       0.0                2.71                      0.41   \n",
       "\n",
       "   LightActiveDistance  SedentaryActiveDistance  VeryActiveMinutes  \\\n",
       "0                 6.06                      0.0                 25   \n",
       "1                 4.71                      0.0                 21   \n",
       "2                 3.91                      0.0                 30   \n",
       "3                 2.83                      0.0                 29   \n",
       "4                 5.04                      0.0                 36   \n",
       "\n",
       "   FairlyActiveMinutes  LightlyActiveMinutes  SedentaryMinutes  Calories  \n",
       "0                   13                   328               728      1985  \n",
       "1                   19                   217               776      1797  \n",
       "2                   11                   181              1218      1776  \n",
       "3                   34                   209               726      1745  \n",
       "4                   10                   221               773      1863  "
      ]
     },
     "execution_count": 3,
     "metadata": {},
     "output_type": "execute_result"
    }
   ],
   "source": [
    "activity_data.head()"
   ]
  },
  {
   "cell_type": "code",
   "execution_count": 4,
   "id": "046ba2e4",
   "metadata": {
    "execution": {
     "iopub.execute_input": "2025-04-28T19:33:32.086435Z",
     "iopub.status.busy": "2025-04-28T19:33:32.086141Z",
     "iopub.status.idle": "2025-04-28T19:33:32.096035Z",
     "shell.execute_reply": "2025-04-28T19:33:32.095013Z"
    },
    "papermill": {
     "duration": 0.020105,
     "end_time": "2025-04-28T19:33:32.097692",
     "exception": false,
     "start_time": "2025-04-28T19:33:32.077587",
     "status": "completed"
    },
    "tags": []
   },
   "outputs": [
    {
     "data": {
      "text/html": [
       "<div>\n",
       "<style scoped>\n",
       "    .dataframe tbody tr th:only-of-type {\n",
       "        vertical-align: middle;\n",
       "    }\n",
       "\n",
       "    .dataframe tbody tr th {\n",
       "        vertical-align: top;\n",
       "    }\n",
       "\n",
       "    .dataframe thead th {\n",
       "        text-align: right;\n",
       "    }\n",
       "</style>\n",
       "<table border=\"1\" class=\"dataframe\">\n",
       "  <thead>\n",
       "    <tr style=\"text-align: right;\">\n",
       "      <th></th>\n",
       "      <th>Id</th>\n",
       "      <th>SleepDay</th>\n",
       "      <th>TotalSleepRecords</th>\n",
       "      <th>TotalMinutesAsleep</th>\n",
       "      <th>TotalTimeInBed</th>\n",
       "    </tr>\n",
       "  </thead>\n",
       "  <tbody>\n",
       "    <tr>\n",
       "      <th>0</th>\n",
       "      <td>1503960366</td>\n",
       "      <td>4/12/2016 12:00:00 AM</td>\n",
       "      <td>1</td>\n",
       "      <td>327</td>\n",
       "      <td>346</td>\n",
       "    </tr>\n",
       "    <tr>\n",
       "      <th>1</th>\n",
       "      <td>1503960366</td>\n",
       "      <td>4/13/2016 12:00:00 AM</td>\n",
       "      <td>2</td>\n",
       "      <td>384</td>\n",
       "      <td>407</td>\n",
       "    </tr>\n",
       "    <tr>\n",
       "      <th>2</th>\n",
       "      <td>1503960366</td>\n",
       "      <td>4/15/2016 12:00:00 AM</td>\n",
       "      <td>1</td>\n",
       "      <td>412</td>\n",
       "      <td>442</td>\n",
       "    </tr>\n",
       "    <tr>\n",
       "      <th>3</th>\n",
       "      <td>1503960366</td>\n",
       "      <td>4/16/2016 12:00:00 AM</td>\n",
       "      <td>2</td>\n",
       "      <td>340</td>\n",
       "      <td>367</td>\n",
       "    </tr>\n",
       "    <tr>\n",
       "      <th>4</th>\n",
       "      <td>1503960366</td>\n",
       "      <td>4/17/2016 12:00:00 AM</td>\n",
       "      <td>1</td>\n",
       "      <td>700</td>\n",
       "      <td>712</td>\n",
       "    </tr>\n",
       "  </tbody>\n",
       "</table>\n",
       "</div>"
      ],
      "text/plain": [
       "           Id               SleepDay  TotalSleepRecords  TotalMinutesAsleep  \\\n",
       "0  1503960366  4/12/2016 12:00:00 AM                  1                 327   \n",
       "1  1503960366  4/13/2016 12:00:00 AM                  2                 384   \n",
       "2  1503960366  4/15/2016 12:00:00 AM                  1                 412   \n",
       "3  1503960366  4/16/2016 12:00:00 AM                  2                 340   \n",
       "4  1503960366  4/17/2016 12:00:00 AM                  1                 700   \n",
       "\n",
       "   TotalTimeInBed  \n",
       "0             346  \n",
       "1             407  \n",
       "2             442  \n",
       "3             367  \n",
       "4             712  "
      ]
     },
     "execution_count": 4,
     "metadata": {},
     "output_type": "execute_result"
    }
   ],
   "source": [
    "sleep_data.head()"
   ]
  },
  {
   "cell_type": "markdown",
   "id": "9e01eeda",
   "metadata": {
    "papermill": {
     "duration": 0.007651,
     "end_time": "2025-04-28T19:33:32.113562",
     "exception": false,
     "start_time": "2025-04-28T19:33:32.105911",
     "status": "completed"
    },
    "tags": []
   },
   "source": [
    "#### Next, I will merge both dataframes, for this i'm going to use the `merge()` function because it allows me to join the two datasets based on shared columns, specifically, the user ID (Id) and the date of the record (Date). I ensure that all records from both datasets are included, even if one of them is missing data for a particular user or date. The resulting dataframe keeps the correct alignment between users and dates, and any missing values are filled with NaN, which most plotting libraries can handle automatically. For this I'm going to creat a new column called `Date` in both the daily activity and sleep activity dataframes. This step is necessary because each dataset originally had its own date column, with different names: `ActivityDate` in the activity data and `SleepDay` in the sleep data.\n",
    "\n",
    "#### To ensure a proper merge, both dataframes need to share the same column name and format for the date. I used the `pd.to_datetime()` function to convert the original date columns into pandas datetime objects, which standardizes the format and allows for accurate comparison:"
   ]
  },
  {
   "cell_type": "code",
   "execution_count": 5,
   "id": "22136101",
   "metadata": {
    "execution": {
     "iopub.execute_input": "2025-04-28T19:33:32.130630Z",
     "iopub.status.busy": "2025-04-28T19:33:32.130280Z",
     "iopub.status.idle": "2025-04-28T19:33:32.181714Z",
     "shell.execute_reply": "2025-04-28T19:33:32.180897Z"
    },
    "papermill": {
     "duration": 0.062088,
     "end_time": "2025-04-28T19:33:32.183507",
     "exception": false,
     "start_time": "2025-04-28T19:33:32.121419",
     "status": "completed"
    },
    "tags": []
   },
   "outputs": [
    {
     "name": "stdout",
     "output_type": "stream",
     "text": [
      "<class 'pandas.core.frame.DataFrame'>\n",
      "RangeIndex: 943 entries, 0 to 942\n",
      "Data columns (total 20 columns):\n",
      " #   Column                    Non-Null Count  Dtype         \n",
      "---  ------                    --------------  -----         \n",
      " 0   Id                        943 non-null    int64         \n",
      " 1   ActivityDate              943 non-null    object        \n",
      " 2   TotalSteps                943 non-null    int64         \n",
      " 3   TotalDistance             943 non-null    float64       \n",
      " 4   TrackerDistance           943 non-null    float64       \n",
      " 5   LoggedActivitiesDistance  943 non-null    float64       \n",
      " 6   VeryActiveDistance        943 non-null    float64       \n",
      " 7   ModeratelyActiveDistance  943 non-null    float64       \n",
      " 8   LightActiveDistance       943 non-null    float64       \n",
      " 9   SedentaryActiveDistance   943 non-null    float64       \n",
      " 10  VeryActiveMinutes         943 non-null    int64         \n",
      " 11  FairlyActiveMinutes       943 non-null    int64         \n",
      " 12  LightlyActiveMinutes      943 non-null    int64         \n",
      " 13  SedentaryMinutes          943 non-null    int64         \n",
      " 14  Calories                  943 non-null    int64         \n",
      " 15  Date                      943 non-null    datetime64[ns]\n",
      " 16  SleepDay                  413 non-null    object        \n",
      " 17  TotalSleepRecords         413 non-null    float64       \n",
      " 18  TotalMinutesAsleep        413 non-null    float64       \n",
      " 19  TotalTimeInBed            413 non-null    float64       \n",
      "dtypes: datetime64[ns](1), float64(10), int64(7), object(2)\n",
      "memory usage: 147.5+ KB\n"
     ]
    }
   ],
   "source": [
    "activity_data['Date'] = pd.to_datetime(activity_data['ActivityDate'])\n",
    "sleep_data['Date'] = pd.to_datetime(sleep_data['SleepDay'])\n",
    "\n",
    "merged = pd.merge(activity_data, sleep_data, on=['Id', 'Date'], how='outer')\n",
    "\n",
    "merged.info()"
   ]
  },
  {
   "cell_type": "markdown",
   "id": "7d11faa0",
   "metadata": {
    "papermill": {
     "duration": 0.007541,
     "end_time": "2025-04-28T19:33:32.199355",
     "exception": false,
     "start_time": "2025-04-28T19:33:32.191814",
     "status": "completed"
    },
    "tags": []
   },
   "source": [
    "#### As we can see, the dataset contains 20 columns and 943 rows. We can see that there are null values for the columns from the sleep activity dataframe. This is because, as i explained earlier, the dataframe was created by merging two dataframes with different numbers of rows. The number of users in the sleep activity dataframe is lower, as we can see bellow:"
   ]
  },
  {
   "cell_type": "code",
   "execution_count": 6,
   "id": "e1e6aa97",
   "metadata": {
    "execution": {
     "iopub.execute_input": "2025-04-28T19:33:32.216576Z",
     "iopub.status.busy": "2025-04-28T19:33:32.216229Z",
     "iopub.status.idle": "2025-04-28T19:33:32.221698Z",
     "shell.execute_reply": "2025-04-28T19:33:32.220782Z"
    },
    "papermill": {
     "duration": 0.015844,
     "end_time": "2025-04-28T19:33:32.223009",
     "exception": false,
     "start_time": "2025-04-28T19:33:32.207165",
     "status": "completed"
    },
    "tags": []
   },
   "outputs": [
    {
     "name": "stdout",
     "output_type": "stream",
     "text": [
      "Number of unique users in daily activity data: 33\n",
      "Number of unique users in sleep activity data: 24\n"
     ]
    }
   ],
   "source": [
    "print(f\"Number of unique users in daily activity data: {len(activity_data['Id'].unique())}\\n\"\n",
    "      f\"Number of unique users in sleep activity data: {len(sleep_data['Id'].unique())}\")"
   ]
  },
  {
   "cell_type": "markdown",
   "id": "f06bd2fd",
   "metadata": {
    "papermill": {
     "duration": 0.00765,
     "end_time": "2025-04-28T19:33:32.238821",
     "exception": false,
     "start_time": "2025-04-28T19:33:32.231171",
     "status": "completed"
    },
    "tags": []
   },
   "source": [
    "## Data Cleaning\n",
    "\n",
    "#### Now that we have the merged dataframe, let's start cleaning it to get it in the best possible shape for analysis.                        \n",
    "#### Because i created a new column called `Date`, that merges the dates from both dataframes, i can delete the other date columns from the daily activity and sleep activity dataframes (`ActivityDate` and `SleepDay`) "
   ]
  },
  {
   "cell_type": "code",
   "execution_count": 7,
   "id": "05c7dfa1",
   "metadata": {
    "execution": {
     "iopub.execute_input": "2025-04-28T19:33:32.256177Z",
     "iopub.status.busy": "2025-04-28T19:33:32.255855Z",
     "iopub.status.idle": "2025-04-28T19:33:32.268786Z",
     "shell.execute_reply": "2025-04-28T19:33:32.267686Z"
    },
    "papermill": {
     "duration": 0.023635,
     "end_time": "2025-04-28T19:33:32.270334",
     "exception": false,
     "start_time": "2025-04-28T19:33:32.246699",
     "status": "completed"
    },
    "tags": []
   },
   "outputs": [
    {
     "name": "stdout",
     "output_type": "stream",
     "text": [
      "<class 'pandas.core.frame.DataFrame'>\n",
      "RangeIndex: 943 entries, 0 to 942\n",
      "Data columns (total 18 columns):\n",
      " #   Column                    Non-Null Count  Dtype         \n",
      "---  ------                    --------------  -----         \n",
      " 0   Id                        943 non-null    int64         \n",
      " 1   TotalSteps                943 non-null    int64         \n",
      " 2   TotalDistance             943 non-null    float64       \n",
      " 3   TrackerDistance           943 non-null    float64       \n",
      " 4   LoggedActivitiesDistance  943 non-null    float64       \n",
      " 5   VeryActiveDistance        943 non-null    float64       \n",
      " 6   ModeratelyActiveDistance  943 non-null    float64       \n",
      " 7   LightActiveDistance       943 non-null    float64       \n",
      " 8   SedentaryActiveDistance   943 non-null    float64       \n",
      " 9   VeryActiveMinutes         943 non-null    int64         \n",
      " 10  FairlyActiveMinutes       943 non-null    int64         \n",
      " 11  LightlyActiveMinutes      943 non-null    int64         \n",
      " 12  SedentaryMinutes          943 non-null    int64         \n",
      " 13  Calories                  943 non-null    int64         \n",
      " 14  Date                      943 non-null    datetime64[ns]\n",
      " 15  TotalSleepRecords         413 non-null    float64       \n",
      " 16  TotalMinutesAsleep        413 non-null    float64       \n",
      " 17  TotalTimeInBed            413 non-null    float64       \n",
      "dtypes: datetime64[ns](1), float64(10), int64(7)\n",
      "memory usage: 132.7 KB\n"
     ]
    }
   ],
   "source": [
    "merged = merged.drop(columns=['ActivityDate', 'SleepDay'])\n",
    "merged.info()"
   ]
  },
  {
   "cell_type": "markdown",
   "id": "297be6f0",
   "metadata": {
    "papermill": {
     "duration": 0.007729,
     "end_time": "2025-04-28T19:33:32.286343",
     "exception": false,
     "start_time": "2025-04-28T19:33:32.278614",
     "status": "completed"
    },
    "tags": []
   },
   "source": [
    "#### Now we have left the columns we need for analysis. \n",
    "\n",
    "#### Next thing i wanna do is change the names of the columns to a more \"pythonic\" way, because the column names are in CamelCase, and for Python, it is best practice to use snake_case. Since in this case i wanna switch from CamelCase to snake_case, it's easy to find a function(in this case im using regex) that does this. If the column names were more complex, it might have been necessary to change them one by one using a dictionary with the `columns` function."
   ]
  },
  {
   "cell_type": "code",
   "execution_count": 8,
   "id": "fc177072",
   "metadata": {
    "execution": {
     "iopub.execute_input": "2025-04-28T19:33:32.369090Z",
     "iopub.status.busy": "2025-04-28T19:33:32.368794Z",
     "iopub.status.idle": "2025-04-28T19:33:32.388363Z",
     "shell.execute_reply": "2025-04-28T19:33:32.387518Z"
    },
    "papermill": {
     "duration": 0.095518,
     "end_time": "2025-04-28T19:33:32.389836",
     "exception": false,
     "start_time": "2025-04-28T19:33:32.294318",
     "status": "completed"
    },
    "tags": []
   },
   "outputs": [
    {
     "data": {
      "text/html": [
       "<div>\n",
       "<style scoped>\n",
       "    .dataframe tbody tr th:only-of-type {\n",
       "        vertical-align: middle;\n",
       "    }\n",
       "\n",
       "    .dataframe tbody tr th {\n",
       "        vertical-align: top;\n",
       "    }\n",
       "\n",
       "    .dataframe thead th {\n",
       "        text-align: right;\n",
       "    }\n",
       "</style>\n",
       "<table border=\"1\" class=\"dataframe\">\n",
       "  <thead>\n",
       "    <tr style=\"text-align: right;\">\n",
       "      <th></th>\n",
       "      <th>id</th>\n",
       "      <th>total_steps</th>\n",
       "      <th>total_distance</th>\n",
       "      <th>tracker_distance</th>\n",
       "      <th>logged_activities_distance</th>\n",
       "      <th>very_active_distance</th>\n",
       "      <th>moderately_active_distance</th>\n",
       "      <th>light_active_distance</th>\n",
       "      <th>sedentary_active_distance</th>\n",
       "      <th>very_active_minutes</th>\n",
       "      <th>fairly_active_minutes</th>\n",
       "      <th>lightly_active_minutes</th>\n",
       "      <th>sedentary_minutes</th>\n",
       "      <th>calories</th>\n",
       "      <th>date</th>\n",
       "      <th>total_sleep_records</th>\n",
       "      <th>total_minutes_asleep</th>\n",
       "      <th>total_time_in_bed</th>\n",
       "    </tr>\n",
       "  </thead>\n",
       "  <tbody>\n",
       "    <tr>\n",
       "      <th>0</th>\n",
       "      <td>1503960366</td>\n",
       "      <td>13162</td>\n",
       "      <td>8.50</td>\n",
       "      <td>8.50</td>\n",
       "      <td>0.0</td>\n",
       "      <td>1.88</td>\n",
       "      <td>0.55</td>\n",
       "      <td>6.06</td>\n",
       "      <td>0.0</td>\n",
       "      <td>25</td>\n",
       "      <td>13</td>\n",
       "      <td>328</td>\n",
       "      <td>728</td>\n",
       "      <td>1985</td>\n",
       "      <td>2016-04-12</td>\n",
       "      <td>1.0</td>\n",
       "      <td>327.0</td>\n",
       "      <td>346.0</td>\n",
       "    </tr>\n",
       "    <tr>\n",
       "      <th>1</th>\n",
       "      <td>1503960366</td>\n",
       "      <td>10735</td>\n",
       "      <td>6.97</td>\n",
       "      <td>6.97</td>\n",
       "      <td>0.0</td>\n",
       "      <td>1.57</td>\n",
       "      <td>0.69</td>\n",
       "      <td>4.71</td>\n",
       "      <td>0.0</td>\n",
       "      <td>21</td>\n",
       "      <td>19</td>\n",
       "      <td>217</td>\n",
       "      <td>776</td>\n",
       "      <td>1797</td>\n",
       "      <td>2016-04-13</td>\n",
       "      <td>2.0</td>\n",
       "      <td>384.0</td>\n",
       "      <td>407.0</td>\n",
       "    </tr>\n",
       "    <tr>\n",
       "      <th>2</th>\n",
       "      <td>1503960366</td>\n",
       "      <td>10460</td>\n",
       "      <td>6.74</td>\n",
       "      <td>6.74</td>\n",
       "      <td>0.0</td>\n",
       "      <td>2.44</td>\n",
       "      <td>0.40</td>\n",
       "      <td>3.91</td>\n",
       "      <td>0.0</td>\n",
       "      <td>30</td>\n",
       "      <td>11</td>\n",
       "      <td>181</td>\n",
       "      <td>1218</td>\n",
       "      <td>1776</td>\n",
       "      <td>2016-04-14</td>\n",
       "      <td>NaN</td>\n",
       "      <td>NaN</td>\n",
       "      <td>NaN</td>\n",
       "    </tr>\n",
       "    <tr>\n",
       "      <th>3</th>\n",
       "      <td>1503960366</td>\n",
       "      <td>9762</td>\n",
       "      <td>6.28</td>\n",
       "      <td>6.28</td>\n",
       "      <td>0.0</td>\n",
       "      <td>2.14</td>\n",
       "      <td>1.26</td>\n",
       "      <td>2.83</td>\n",
       "      <td>0.0</td>\n",
       "      <td>29</td>\n",
       "      <td>34</td>\n",
       "      <td>209</td>\n",
       "      <td>726</td>\n",
       "      <td>1745</td>\n",
       "      <td>2016-04-15</td>\n",
       "      <td>1.0</td>\n",
       "      <td>412.0</td>\n",
       "      <td>442.0</td>\n",
       "    </tr>\n",
       "    <tr>\n",
       "      <th>4</th>\n",
       "      <td>1503960366</td>\n",
       "      <td>12669</td>\n",
       "      <td>8.16</td>\n",
       "      <td>8.16</td>\n",
       "      <td>0.0</td>\n",
       "      <td>2.71</td>\n",
       "      <td>0.41</td>\n",
       "      <td>5.04</td>\n",
       "      <td>0.0</td>\n",
       "      <td>36</td>\n",
       "      <td>10</td>\n",
       "      <td>221</td>\n",
       "      <td>773</td>\n",
       "      <td>1863</td>\n",
       "      <td>2016-04-16</td>\n",
       "      <td>2.0</td>\n",
       "      <td>340.0</td>\n",
       "      <td>367.0</td>\n",
       "    </tr>\n",
       "  </tbody>\n",
       "</table>\n",
       "</div>"
      ],
      "text/plain": [
       "           id  total_steps  total_distance  tracker_distance  \\\n",
       "0  1503960366        13162            8.50              8.50   \n",
       "1  1503960366        10735            6.97              6.97   \n",
       "2  1503960366        10460            6.74              6.74   \n",
       "3  1503960366         9762            6.28              6.28   \n",
       "4  1503960366        12669            8.16              8.16   \n",
       "\n",
       "   logged_activities_distance  very_active_distance  \\\n",
       "0                         0.0                  1.88   \n",
       "1                         0.0                  1.57   \n",
       "2                         0.0                  2.44   \n",
       "3                         0.0                  2.14   \n",
       "4                         0.0                  2.71   \n",
       "\n",
       "   moderately_active_distance  light_active_distance  \\\n",
       "0                        0.55                   6.06   \n",
       "1                        0.69                   4.71   \n",
       "2                        0.40                   3.91   \n",
       "3                        1.26                   2.83   \n",
       "4                        0.41                   5.04   \n",
       "\n",
       "   sedentary_active_distance  very_active_minutes  fairly_active_minutes  \\\n",
       "0                        0.0                   25                     13   \n",
       "1                        0.0                   21                     19   \n",
       "2                        0.0                   30                     11   \n",
       "3                        0.0                   29                     34   \n",
       "4                        0.0                   36                     10   \n",
       "\n",
       "   lightly_active_minutes  sedentary_minutes  calories       date  \\\n",
       "0                     328                728      1985 2016-04-12   \n",
       "1                     217                776      1797 2016-04-13   \n",
       "2                     181               1218      1776 2016-04-14   \n",
       "3                     209                726      1745 2016-04-15   \n",
       "4                     221                773      1863 2016-04-16   \n",
       "\n",
       "   total_sleep_records  total_minutes_asleep  total_time_in_bed  \n",
       "0                  1.0                 327.0              346.0  \n",
       "1                  2.0                 384.0              407.0  \n",
       "2                  NaN                   NaN                NaN  \n",
       "3                  1.0                 412.0              442.0  \n",
       "4                  2.0                 340.0              367.0  "
      ]
     },
     "execution_count": 8,
     "metadata": {},
     "output_type": "execute_result"
    }
   ],
   "source": [
    "def camel_to_snake(column):\n",
    "    column = re.sub('(.)([A-Z][a-z]+)', r'\\1_\\2', column)\n",
    "    column = re.sub('([a-z0-9])([A-Z])', r'\\1_\\2', column)\n",
    "    return column.lower()\n",
    "\n",
    "merged.columns = [camel_to_snake(column) for column in merged.columns]\n",
    "merged.head()"
   ]
  },
  {
   "cell_type": "markdown",
   "id": "826016d0",
   "metadata": {
    "papermill": {
     "duration": 0.008305,
     "end_time": "2025-04-28T19:33:32.406746",
     "exception": false,
     "start_time": "2025-04-28T19:33:32.398441",
     "status": "completed"
    },
    "tags": []
   },
   "source": [
    "#### I don't need statistics about `id` column, so i will set it as the index of the dataframe. This facilitates indexing and accessing data by user."
   ]
  },
  {
   "cell_type": "code",
   "execution_count": 9,
   "id": "b8418008",
   "metadata": {
    "execution": {
     "iopub.execute_input": "2025-04-28T19:33:32.425437Z",
     "iopub.status.busy": "2025-04-28T19:33:32.425141Z",
     "iopub.status.idle": "2025-04-28T19:33:32.430933Z",
     "shell.execute_reply": "2025-04-28T19:33:32.429857Z"
    },
    "papermill": {
     "duration": 0.017201,
     "end_time": "2025-04-28T19:33:32.432444",
     "exception": false,
     "start_time": "2025-04-28T19:33:32.415243",
     "status": "completed"
    },
    "tags": []
   },
   "outputs": [],
   "source": [
    "merged.set_index('id', inplace=True)"
   ]
  },
  {
   "cell_type": "code",
   "execution_count": 10,
   "id": "11623838",
   "metadata": {
    "execution": {
     "iopub.execute_input": "2025-04-28T19:33:32.451257Z",
     "iopub.status.busy": "2025-04-28T19:33:32.450920Z",
     "iopub.status.idle": "2025-04-28T19:33:32.462706Z",
     "shell.execute_reply": "2025-04-28T19:33:32.461589Z"
    },
    "papermill": {
     "duration": 0.022901,
     "end_time": "2025-04-28T19:33:32.464050",
     "exception": false,
     "start_time": "2025-04-28T19:33:32.441149",
     "status": "completed"
    },
    "tags": []
   },
   "outputs": [
    {
     "name": "stdout",
     "output_type": "stream",
     "text": [
      "<class 'pandas.core.frame.DataFrame'>\n",
      "Index: 943 entries, 1503960366 to 8877689391\n",
      "Data columns (total 17 columns):\n",
      " #   Column                      Non-Null Count  Dtype         \n",
      "---  ------                      --------------  -----         \n",
      " 0   total_steps                 943 non-null    int64         \n",
      " 1   total_distance              943 non-null    float64       \n",
      " 2   tracker_distance            943 non-null    float64       \n",
      " 3   logged_activities_distance  943 non-null    float64       \n",
      " 4   very_active_distance        943 non-null    float64       \n",
      " 5   moderately_active_distance  943 non-null    float64       \n",
      " 6   light_active_distance       943 non-null    float64       \n",
      " 7   sedentary_active_distance   943 non-null    float64       \n",
      " 8   very_active_minutes         943 non-null    int64         \n",
      " 9   fairly_active_minutes       943 non-null    int64         \n",
      " 10  lightly_active_minutes      943 non-null    int64         \n",
      " 11  sedentary_minutes           943 non-null    int64         \n",
      " 12  calories                    943 non-null    int64         \n",
      " 13  date                        943 non-null    datetime64[ns]\n",
      " 14  total_sleep_records         413 non-null    float64       \n",
      " 15  total_minutes_asleep        413 non-null    float64       \n",
      " 16  total_time_in_bed           413 non-null    float64       \n",
      "dtypes: datetime64[ns](1), float64(10), int64(6)\n",
      "memory usage: 132.6 KB\n"
     ]
    }
   ],
   "source": [
    "merged.info()"
   ]
  },
  {
   "cell_type": "markdown",
   "id": "e196942d",
   "metadata": {
    "papermill": {
     "duration": 0.0086,
     "end_time": "2025-04-28T19:33:32.481941",
     "exception": false,
     "start_time": "2025-04-28T19:33:32.473341",
     "status": "completed"
    },
    "tags": []
   },
   "source": [
    "#### We can see that now we have only 17 columns, one less, because `id` is no longer treated as a column of the dataset."
   ]
  },
  {
   "cell_type": "markdown",
   "id": "571fd4c3",
   "metadata": {
    "papermill": {
     "duration": 0.009389,
     "end_time": "2025-04-28T19:33:32.499915",
     "exception": false,
     "start_time": "2025-04-28T19:33:32.490526",
     "status": "completed"
    },
    "tags": []
   },
   "source": [
    "#### As we said earlier, there are missing values because some users doesn't have data about sleep activity. Let's confirm this with a dedicated function."
   ]
  },
  {
   "cell_type": "code",
   "execution_count": 11,
   "id": "50cd69c6",
   "metadata": {
    "execution": {
     "iopub.execute_input": "2025-04-28T19:33:32.518588Z",
     "iopub.status.busy": "2025-04-28T19:33:32.518263Z",
     "iopub.status.idle": "2025-04-28T19:33:32.526217Z",
     "shell.execute_reply": "2025-04-28T19:33:32.525283Z"
    },
    "papermill": {
     "duration": 0.019212,
     "end_time": "2025-04-28T19:33:32.527829",
     "exception": false,
     "start_time": "2025-04-28T19:33:32.508617",
     "status": "completed"
    },
    "tags": []
   },
   "outputs": [
    {
     "data": {
      "text/plain": [
       "total_steps                     0\n",
       "total_distance                  0\n",
       "tracker_distance                0\n",
       "logged_activities_distance      0\n",
       "very_active_distance            0\n",
       "moderately_active_distance      0\n",
       "light_active_distance           0\n",
       "sedentary_active_distance       0\n",
       "very_active_minutes             0\n",
       "fairly_active_minutes           0\n",
       "lightly_active_minutes          0\n",
       "sedentary_minutes               0\n",
       "calories                        0\n",
       "date                            0\n",
       "total_sleep_records           530\n",
       "total_minutes_asleep          530\n",
       "total_time_in_bed             530\n",
       "dtype: int64"
      ]
     },
     "execution_count": 11,
     "metadata": {},
     "output_type": "execute_result"
    }
   ],
   "source": [
    "merged.isnull().sum()"
   ]
  },
  {
   "cell_type": "markdown",
   "id": "842be851",
   "metadata": {
    "papermill": {
     "duration": 0.008254,
     "end_time": "2025-04-28T19:33:32.544971",
     "exception": false,
     "start_time": "2025-04-28T19:33:32.536717",
     "status": "completed"
    },
    "tags": []
   },
   "source": [
    "#### The columns from the sleep activity dataframe contain null values for users who don't have sleep activity records, but they are still present in the dataframe because they have daily activity records(daily activity dataframe). This is not a problem, since most plotting libraries automatically drop rows with missing values. For example, if we want to compare total minutes asleep with total steps, the function will only use data from users who have sleep activity records.\n",
    "\n",
    "#### Now let's check if there is any duplicated row, and if there is, we will remove it, and if not, we can continue."
   ]
  },
  {
   "cell_type": "code",
   "execution_count": 12,
   "id": "03efe086",
   "metadata": {
    "execution": {
     "iopub.execute_input": "2025-04-28T19:33:32.563433Z",
     "iopub.status.busy": "2025-04-28T19:33:32.563104Z",
     "iopub.status.idle": "2025-04-28T19:33:32.571131Z",
     "shell.execute_reply": "2025-04-28T19:33:32.570105Z"
    },
    "papermill": {
     "duration": 0.018994,
     "end_time": "2025-04-28T19:33:32.572511",
     "exception": false,
     "start_time": "2025-04-28T19:33:32.553517",
     "status": "completed"
    },
    "tags": []
   },
   "outputs": [
    {
     "name": "stdout",
     "output_type": "stream",
     "text": [
      "The total number of duplicated rows is: 4\n"
     ]
    }
   ],
   "source": [
    "print(f\"The total number of duplicated rows is: {merged.duplicated().sum()}\")"
   ]
  },
  {
   "cell_type": "markdown",
   "id": "0824590d",
   "metadata": {
    "papermill": {
     "duration": 0.008462,
     "end_time": "2025-04-28T19:33:32.589760",
     "exception": false,
     "start_time": "2025-04-28T19:33:32.581298",
     "status": "completed"
    },
    "tags": []
   },
   "source": [
    "#### Time to delete the duplicated rows:"
   ]
  },
  {
   "cell_type": "code",
   "execution_count": 13,
   "id": "49f7fc56",
   "metadata": {
    "execution": {
     "iopub.execute_input": "2025-04-28T19:33:32.609180Z",
     "iopub.status.busy": "2025-04-28T19:33:32.608838Z",
     "iopub.status.idle": "2025-04-28T19:33:32.619711Z",
     "shell.execute_reply": "2025-04-28T19:33:32.618732Z"
    },
    "papermill": {
     "duration": 0.022957,
     "end_time": "2025-04-28T19:33:32.621246",
     "exception": false,
     "start_time": "2025-04-28T19:33:32.598289",
     "status": "completed"
    },
    "tags": []
   },
   "outputs": [
    {
     "name": "stdout",
     "output_type": "stream",
     "text": [
      "The total number of duplicated rows is: 0\n"
     ]
    }
   ],
   "source": [
    "merged.drop_duplicates(inplace=True)\n",
    "print(f\"The total number of duplicated rows is: {merged.duplicated().sum()}\")"
   ]
  },
  {
   "cell_type": "code",
   "execution_count": 14,
   "id": "cf6fd74b",
   "metadata": {
    "execution": {
     "iopub.execute_input": "2025-04-28T19:33:32.640094Z",
     "iopub.status.busy": "2025-04-28T19:33:32.639784Z",
     "iopub.status.idle": "2025-04-28T19:33:32.651051Z",
     "shell.execute_reply": "2025-04-28T19:33:32.649920Z"
    },
    "papermill": {
     "duration": 0.022697,
     "end_time": "2025-04-28T19:33:32.652811",
     "exception": false,
     "start_time": "2025-04-28T19:33:32.630114",
     "status": "completed"
    },
    "tags": []
   },
   "outputs": [
    {
     "name": "stdout",
     "output_type": "stream",
     "text": [
      "<class 'pandas.core.frame.DataFrame'>\n",
      "Index: 939 entries, 1503960366 to 8877689391\n",
      "Data columns (total 17 columns):\n",
      " #   Column                      Non-Null Count  Dtype         \n",
      "---  ------                      --------------  -----         \n",
      " 0   total_steps                 939 non-null    int64         \n",
      " 1   total_distance              939 non-null    float64       \n",
      " 2   tracker_distance            939 non-null    float64       \n",
      " 3   logged_activities_distance  939 non-null    float64       \n",
      " 4   very_active_distance        939 non-null    float64       \n",
      " 5   moderately_active_distance  939 non-null    float64       \n",
      " 6   light_active_distance       939 non-null    float64       \n",
      " 7   sedentary_active_distance   939 non-null    float64       \n",
      " 8   very_active_minutes         939 non-null    int64         \n",
      " 9   fairly_active_minutes       939 non-null    int64         \n",
      " 10  lightly_active_minutes      939 non-null    int64         \n",
      " 11  sedentary_minutes           939 non-null    int64         \n",
      " 12  calories                    939 non-null    int64         \n",
      " 13  date                        939 non-null    datetime64[ns]\n",
      " 14  total_sleep_records         410 non-null    float64       \n",
      " 15  total_minutes_asleep        410 non-null    float64       \n",
      " 16  total_time_in_bed           410 non-null    float64       \n",
      "dtypes: datetime64[ns](1), float64(10), int64(6)\n",
      "memory usage: 132.0 KB\n"
     ]
    }
   ],
   "source": [
    "merged.info()"
   ]
  },
  {
   "cell_type": "markdown",
   "id": "0f605767",
   "metadata": {
    "papermill": {
     "duration": 0.009065,
     "end_time": "2025-04-28T19:33:32.670942",
     "exception": false,
     "start_time": "2025-04-28T19:33:32.661877",
     "status": "completed"
    },
    "tags": []
   },
   "source": [
    "#### Now let's create two new columns. One for the total minutes of activity and another for the name of the day, given a date."
   ]
  },
  {
   "cell_type": "code",
   "execution_count": 15,
   "id": "84e470ba",
   "metadata": {
    "execution": {
     "iopub.execute_input": "2025-04-28T19:33:32.689859Z",
     "iopub.status.busy": "2025-04-28T19:33:32.689516Z",
     "iopub.status.idle": "2025-04-28T19:33:32.700402Z",
     "shell.execute_reply": "2025-04-28T19:33:32.699474Z"
    },
    "papermill": {
     "duration": 0.022248,
     "end_time": "2025-04-28T19:33:32.701931",
     "exception": false,
     "start_time": "2025-04-28T19:33:32.679683",
     "status": "completed"
    },
    "tags": []
   },
   "outputs": [
    {
     "data": {
      "text/html": [
       "<div>\n",
       "<style scoped>\n",
       "    .dataframe tbody tr th:only-of-type {\n",
       "        vertical-align: middle;\n",
       "    }\n",
       "\n",
       "    .dataframe tbody tr th {\n",
       "        vertical-align: top;\n",
       "    }\n",
       "\n",
       "    .dataframe thead th {\n",
       "        text-align: right;\n",
       "    }\n",
       "</style>\n",
       "<table border=\"1\" class=\"dataframe\">\n",
       "  <thead>\n",
       "    <tr style=\"text-align: right;\">\n",
       "      <th></th>\n",
       "      <th>total_activity_minutes</th>\n",
       "    </tr>\n",
       "    <tr>\n",
       "      <th>id</th>\n",
       "      <th></th>\n",
       "    </tr>\n",
       "  </thead>\n",
       "  <tbody>\n",
       "    <tr>\n",
       "      <th>1503960366</th>\n",
       "      <td>366</td>\n",
       "    </tr>\n",
       "    <tr>\n",
       "      <th>1503960366</th>\n",
       "      <td>257</td>\n",
       "    </tr>\n",
       "    <tr>\n",
       "      <th>1503960366</th>\n",
       "      <td>222</td>\n",
       "    </tr>\n",
       "    <tr>\n",
       "      <th>1503960366</th>\n",
       "      <td>272</td>\n",
       "    </tr>\n",
       "    <tr>\n",
       "      <th>1503960366</th>\n",
       "      <td>267</td>\n",
       "    </tr>\n",
       "    <tr>\n",
       "      <th>...</th>\n",
       "      <td>...</td>\n",
       "    </tr>\n",
       "    <tr>\n",
       "      <th>8877689391</th>\n",
       "      <td>266</td>\n",
       "    </tr>\n",
       "    <tr>\n",
       "      <th>8877689391</th>\n",
       "      <td>309</td>\n",
       "    </tr>\n",
       "    <tr>\n",
       "      <th>8877689391</th>\n",
       "      <td>253</td>\n",
       "    </tr>\n",
       "    <tr>\n",
       "      <th>8877689391</th>\n",
       "      <td>313</td>\n",
       "    </tr>\n",
       "    <tr>\n",
       "      <th>8877689391</th>\n",
       "      <td>161</td>\n",
       "    </tr>\n",
       "  </tbody>\n",
       "</table>\n",
       "<p>939 rows × 1 columns</p>\n",
       "</div>"
      ],
      "text/plain": [
       "            total_activity_minutes\n",
       "id                                \n",
       "1503960366                     366\n",
       "1503960366                     257\n",
       "1503960366                     222\n",
       "1503960366                     272\n",
       "1503960366                     267\n",
       "...                            ...\n",
       "8877689391                     266\n",
       "8877689391                     309\n",
       "8877689391                     253\n",
       "8877689391                     313\n",
       "8877689391                     161\n",
       "\n",
       "[939 rows x 1 columns]"
      ]
     },
     "execution_count": 15,
     "metadata": {},
     "output_type": "execute_result"
    }
   ],
   "source": [
    "merged['total_activity_minutes'] = merged['very_active_minutes'] + merged['fairly_active_minutes'] + merged['lightly_active_minutes']\n",
    "merged['total_activity_minutes'].to_frame()"
   ]
  },
  {
   "cell_type": "code",
   "execution_count": 16,
   "id": "08e2132f",
   "metadata": {
    "execution": {
     "iopub.execute_input": "2025-04-28T19:33:32.721229Z",
     "iopub.status.busy": "2025-04-28T19:33:32.720693Z",
     "iopub.status.idle": "2025-04-28T19:33:32.726411Z",
     "shell.execute_reply": "2025-04-28T19:33:32.725584Z"
    },
    "papermill": {
     "duration": 0.01717,
     "end_time": "2025-04-28T19:33:32.728163",
     "exception": false,
     "start_time": "2025-04-28T19:33:32.710993",
     "status": "completed"
    },
    "tags": []
   },
   "outputs": [],
   "source": [
    "merged['week_day'] = merged['date'].dt.day_name()"
   ]
  },
  {
   "cell_type": "markdown",
   "id": "e8388180",
   "metadata": {
    "papermill": {
     "duration": 0.009181,
     "end_time": "2025-04-28T19:33:32.746955",
     "exception": false,
     "start_time": "2025-04-28T19:33:32.737774",
     "status": "completed"
    },
    "tags": []
   },
   "source": [
    "#### Now the dataframe looks like this:"
   ]
  },
  {
   "cell_type": "code",
   "execution_count": 17,
   "id": "d8a8868d",
   "metadata": {
    "execution": {
     "iopub.execute_input": "2025-04-28T19:33:32.767043Z",
     "iopub.status.busy": "2025-04-28T19:33:32.766756Z",
     "iopub.status.idle": "2025-04-28T19:33:32.786094Z",
     "shell.execute_reply": "2025-04-28T19:33:32.785266Z"
    },
    "papermill": {
     "duration": 0.031434,
     "end_time": "2025-04-28T19:33:32.787687",
     "exception": false,
     "start_time": "2025-04-28T19:33:32.756253",
     "status": "completed"
    },
    "tags": []
   },
   "outputs": [
    {
     "data": {
      "text/html": [
       "<div>\n",
       "<style scoped>\n",
       "    .dataframe tbody tr th:only-of-type {\n",
       "        vertical-align: middle;\n",
       "    }\n",
       "\n",
       "    .dataframe tbody tr th {\n",
       "        vertical-align: top;\n",
       "    }\n",
       "\n",
       "    .dataframe thead th {\n",
       "        text-align: right;\n",
       "    }\n",
       "</style>\n",
       "<table border=\"1\" class=\"dataframe\">\n",
       "  <thead>\n",
       "    <tr style=\"text-align: right;\">\n",
       "      <th></th>\n",
       "      <th>total_steps</th>\n",
       "      <th>total_distance</th>\n",
       "      <th>tracker_distance</th>\n",
       "      <th>logged_activities_distance</th>\n",
       "      <th>very_active_distance</th>\n",
       "      <th>moderately_active_distance</th>\n",
       "      <th>light_active_distance</th>\n",
       "      <th>sedentary_active_distance</th>\n",
       "      <th>very_active_minutes</th>\n",
       "      <th>fairly_active_minutes</th>\n",
       "      <th>lightly_active_minutes</th>\n",
       "      <th>sedentary_minutes</th>\n",
       "      <th>calories</th>\n",
       "      <th>date</th>\n",
       "      <th>total_sleep_records</th>\n",
       "      <th>total_minutes_asleep</th>\n",
       "      <th>total_time_in_bed</th>\n",
       "      <th>total_activity_minutes</th>\n",
       "      <th>week_day</th>\n",
       "    </tr>\n",
       "    <tr>\n",
       "      <th>id</th>\n",
       "      <th></th>\n",
       "      <th></th>\n",
       "      <th></th>\n",
       "      <th></th>\n",
       "      <th></th>\n",
       "      <th></th>\n",
       "      <th></th>\n",
       "      <th></th>\n",
       "      <th></th>\n",
       "      <th></th>\n",
       "      <th></th>\n",
       "      <th></th>\n",
       "      <th></th>\n",
       "      <th></th>\n",
       "      <th></th>\n",
       "      <th></th>\n",
       "      <th></th>\n",
       "      <th></th>\n",
       "      <th></th>\n",
       "    </tr>\n",
       "  </thead>\n",
       "  <tbody>\n",
       "    <tr>\n",
       "      <th>1503960366</th>\n",
       "      <td>13162</td>\n",
       "      <td>8.50</td>\n",
       "      <td>8.50</td>\n",
       "      <td>0.0</td>\n",
       "      <td>1.88</td>\n",
       "      <td>0.55</td>\n",
       "      <td>6.06</td>\n",
       "      <td>0.0</td>\n",
       "      <td>25</td>\n",
       "      <td>13</td>\n",
       "      <td>328</td>\n",
       "      <td>728</td>\n",
       "      <td>1985</td>\n",
       "      <td>2016-04-12</td>\n",
       "      <td>1.0</td>\n",
       "      <td>327.0</td>\n",
       "      <td>346.0</td>\n",
       "      <td>366</td>\n",
       "      <td>Tuesday</td>\n",
       "    </tr>\n",
       "    <tr>\n",
       "      <th>1503960366</th>\n",
       "      <td>10735</td>\n",
       "      <td>6.97</td>\n",
       "      <td>6.97</td>\n",
       "      <td>0.0</td>\n",
       "      <td>1.57</td>\n",
       "      <td>0.69</td>\n",
       "      <td>4.71</td>\n",
       "      <td>0.0</td>\n",
       "      <td>21</td>\n",
       "      <td>19</td>\n",
       "      <td>217</td>\n",
       "      <td>776</td>\n",
       "      <td>1797</td>\n",
       "      <td>2016-04-13</td>\n",
       "      <td>2.0</td>\n",
       "      <td>384.0</td>\n",
       "      <td>407.0</td>\n",
       "      <td>257</td>\n",
       "      <td>Wednesday</td>\n",
       "    </tr>\n",
       "    <tr>\n",
       "      <th>1503960366</th>\n",
       "      <td>10460</td>\n",
       "      <td>6.74</td>\n",
       "      <td>6.74</td>\n",
       "      <td>0.0</td>\n",
       "      <td>2.44</td>\n",
       "      <td>0.40</td>\n",
       "      <td>3.91</td>\n",
       "      <td>0.0</td>\n",
       "      <td>30</td>\n",
       "      <td>11</td>\n",
       "      <td>181</td>\n",
       "      <td>1218</td>\n",
       "      <td>1776</td>\n",
       "      <td>2016-04-14</td>\n",
       "      <td>NaN</td>\n",
       "      <td>NaN</td>\n",
       "      <td>NaN</td>\n",
       "      <td>222</td>\n",
       "      <td>Thursday</td>\n",
       "    </tr>\n",
       "    <tr>\n",
       "      <th>1503960366</th>\n",
       "      <td>9762</td>\n",
       "      <td>6.28</td>\n",
       "      <td>6.28</td>\n",
       "      <td>0.0</td>\n",
       "      <td>2.14</td>\n",
       "      <td>1.26</td>\n",
       "      <td>2.83</td>\n",
       "      <td>0.0</td>\n",
       "      <td>29</td>\n",
       "      <td>34</td>\n",
       "      <td>209</td>\n",
       "      <td>726</td>\n",
       "      <td>1745</td>\n",
       "      <td>2016-04-15</td>\n",
       "      <td>1.0</td>\n",
       "      <td>412.0</td>\n",
       "      <td>442.0</td>\n",
       "      <td>272</td>\n",
       "      <td>Friday</td>\n",
       "    </tr>\n",
       "    <tr>\n",
       "      <th>1503960366</th>\n",
       "      <td>12669</td>\n",
       "      <td>8.16</td>\n",
       "      <td>8.16</td>\n",
       "      <td>0.0</td>\n",
       "      <td>2.71</td>\n",
       "      <td>0.41</td>\n",
       "      <td>5.04</td>\n",
       "      <td>0.0</td>\n",
       "      <td>36</td>\n",
       "      <td>10</td>\n",
       "      <td>221</td>\n",
       "      <td>773</td>\n",
       "      <td>1863</td>\n",
       "      <td>2016-04-16</td>\n",
       "      <td>2.0</td>\n",
       "      <td>340.0</td>\n",
       "      <td>367.0</td>\n",
       "      <td>267</td>\n",
       "      <td>Saturday</td>\n",
       "    </tr>\n",
       "  </tbody>\n",
       "</table>\n",
       "</div>"
      ],
      "text/plain": [
       "            total_steps  total_distance  tracker_distance  \\\n",
       "id                                                          \n",
       "1503960366        13162            8.50              8.50   \n",
       "1503960366        10735            6.97              6.97   \n",
       "1503960366        10460            6.74              6.74   \n",
       "1503960366         9762            6.28              6.28   \n",
       "1503960366        12669            8.16              8.16   \n",
       "\n",
       "            logged_activities_distance  very_active_distance  \\\n",
       "id                                                             \n",
       "1503960366                         0.0                  1.88   \n",
       "1503960366                         0.0                  1.57   \n",
       "1503960366                         0.0                  2.44   \n",
       "1503960366                         0.0                  2.14   \n",
       "1503960366                         0.0                  2.71   \n",
       "\n",
       "            moderately_active_distance  light_active_distance  \\\n",
       "id                                                              \n",
       "1503960366                        0.55                   6.06   \n",
       "1503960366                        0.69                   4.71   \n",
       "1503960366                        0.40                   3.91   \n",
       "1503960366                        1.26                   2.83   \n",
       "1503960366                        0.41                   5.04   \n",
       "\n",
       "            sedentary_active_distance  very_active_minutes  \\\n",
       "id                                                           \n",
       "1503960366                        0.0                   25   \n",
       "1503960366                        0.0                   21   \n",
       "1503960366                        0.0                   30   \n",
       "1503960366                        0.0                   29   \n",
       "1503960366                        0.0                   36   \n",
       "\n",
       "            fairly_active_minutes  lightly_active_minutes  sedentary_minutes  \\\n",
       "id                                                                             \n",
       "1503960366                     13                     328                728   \n",
       "1503960366                     19                     217                776   \n",
       "1503960366                     11                     181               1218   \n",
       "1503960366                     34                     209                726   \n",
       "1503960366                     10                     221                773   \n",
       "\n",
       "            calories       date  total_sleep_records  total_minutes_asleep  \\\n",
       "id                                                                           \n",
       "1503960366      1985 2016-04-12                  1.0                 327.0   \n",
       "1503960366      1797 2016-04-13                  2.0                 384.0   \n",
       "1503960366      1776 2016-04-14                  NaN                   NaN   \n",
       "1503960366      1745 2016-04-15                  1.0                 412.0   \n",
       "1503960366      1863 2016-04-16                  2.0                 340.0   \n",
       "\n",
       "            total_time_in_bed  total_activity_minutes   week_day  \n",
       "id                                                                \n",
       "1503960366              346.0                     366    Tuesday  \n",
       "1503960366              407.0                     257  Wednesday  \n",
       "1503960366                NaN                     222   Thursday  \n",
       "1503960366              442.0                     272     Friday  \n",
       "1503960366              367.0                     267   Saturday  "
      ]
     },
     "execution_count": 17,
     "metadata": {},
     "output_type": "execute_result"
    }
   ],
   "source": [
    "merged.head()"
   ]
  },
  {
   "cell_type": "markdown",
   "id": "efeb98fd",
   "metadata": {
    "papermill": {
     "duration": 0.009146,
     "end_time": "2025-04-28T19:33:32.806485",
     "exception": false,
     "start_time": "2025-04-28T19:33:32.797339",
     "status": "completed"
    },
    "tags": []
   },
   "source": [
    "## Data Analysis and Visualization"
   ]
  },
  {
   "cell_type": "markdown",
   "id": "a11994cd",
   "metadata": {
    "papermill": {
     "duration": 0.009004,
     "end_time": "2025-04-28T19:33:32.824755",
     "exception": false,
     "start_time": "2025-04-28T19:33:32.815751",
     "status": "completed"
    },
    "tags": []
   },
   "source": [
    "#### Let's start by visualizing how the different levels of activity recorded among users are distributed. These levels are: very active minutes, fairly active minutes, lightly active minutes, and sedentary minutes."
   ]
  },
  {
   "cell_type": "code",
   "execution_count": 18,
   "id": "af9b9625",
   "metadata": {
    "execution": {
     "iopub.execute_input": "2025-04-28T19:33:32.845216Z",
     "iopub.status.busy": "2025-04-28T19:33:32.844933Z",
     "iopub.status.idle": "2025-04-28T19:33:32.849598Z",
     "shell.execute_reply": "2025-04-28T19:33:32.848439Z"
    },
    "papermill": {
     "duration": 0.017179,
     "end_time": "2025-04-28T19:33:32.851293",
     "exception": false,
     "start_time": "2025-04-28T19:33:32.834114",
     "status": "completed"
    },
    "tags": []
   },
   "outputs": [],
   "source": [
    "# Setting the style of the grids\n",
    "\n",
    "sns.set_style('darkgrid')"
   ]
  },
  {
   "cell_type": "code",
   "execution_count": 19,
   "id": "941aefe9",
   "metadata": {
    "execution": {
     "iopub.execute_input": "2025-04-28T19:33:32.873198Z",
     "iopub.status.busy": "2025-04-28T19:33:32.872916Z",
     "iopub.status.idle": "2025-04-28T19:33:33.160948Z",
     "shell.execute_reply": "2025-04-28T19:33:33.160078Z"
    },
    "papermill": {
     "duration": 0.301386,
     "end_time": "2025-04-28T19:33:33.162342",
     "exception": false,
     "start_time": "2025-04-28T19:33:32.860956",
     "status": "completed"
    },
    "tags": []
   },
   "outputs": [
    {
     "data": {
      "image/png": "[encoded data removed]",
      "text/plain": [
       "<Figure size 1000x600 with 1 Axes>"
      ]
     },
     "metadata": {},
     "output_type": "display_data"
    }
   ],
   "source": [
    "very_active = merged['very_active_minutes'].mean()\n",
    "fairly_active = merged['fairly_active_minutes'].mean()\n",
    "lightly_active = merged['lightly_active_minutes'].mean()\n",
    "sedentary = merged['sedentary_minutes'].mean()\n",
    "\n",
    "x = ['Very Active Minutes', 'Fairly Active Minutes', 'Lightly Active Minutes', 'Sedentary Minutes']\n",
    "y = [very_active, fairly_active, lightly_active, sedentary]\n",
    "\n",
    "plt.figure(figsize=(10, 6))\n",
    "sns.barplot(x=x,y=y, palette='Set2')\n",
    "plt.title('Total Distribution of Active Minutes', size=18)\n",
    "plt.xlabel('Activity Level', size=15)\n",
    "plt.ylabel('Total Minutes', size=15)\n",
    "plt.show()"
   ]
  },
  {
   "cell_type": "markdown",
   "id": "1aa1a776",
   "metadata": {
    "papermill": {
     "duration": 0.009789,
     "end_time": "2025-04-28T19:33:33.183151",
     "exception": false,
     "start_time": "2025-04-28T19:33:33.173362",
     "status": "completed"
    },
    "tags": []
   },
   "source": [
    "#### As we can see, most users are sedentary or spend the majority of their time without engaging in any type of physical activity. This is an important observation, it would be good to encourage or promote users to reduce their sedentary minutes and increase their physical activity.\n",
    "\n",
    "#### Now let's analyze the total number of steps and how this affects the calories burned. We can expect the correlation between these two variables to be positive, that is, the higher the number of steps, the more calories burned.\n"
   ]
  },
  {
   "cell_type": "code",
   "execution_count": 20,
   "id": "5ff28f4e",
   "metadata": {
    "execution": {
     "iopub.execute_input": "2025-04-28T19:33:33.205063Z",
     "iopub.status.busy": "2025-04-28T19:33:33.204321Z",
     "iopub.status.idle": "2025-04-28T19:33:33.609159Z",
     "shell.execute_reply": "2025-04-28T19:33:33.608317Z"
    },
    "papermill": {
     "duration": 0.417559,
     "end_time": "2025-04-28T19:33:33.611169",
     "exception": false,
     "start_time": "2025-04-28T19:33:33.193610",
     "status": "completed"
    },
    "tags": []
   },
   "outputs": [
    {
     "data": {
      "image/png": "[encoded data removed]",
      "text/plain": [
       "<Figure size 640x480 with 1 Axes>"
      ]
     },
     "metadata": {},
     "output_type": "display_data"
    }
   ],
   "source": [
    "mean_steps = merged.groupby('id')['total_steps'].mean()\n",
    "mean_calories = merged.groupby('id')['calories'].mean()\n",
    "\n",
    "sns.regplot(x=mean_steps, y=mean_calories, line_kws={'color': 'red'})\n",
    "plt.title('Correlation Between Steps and Calories Burned', size=18)\n",
    "plt.xlabel('Steps')\n",
    "plt.ylabel('Calories')\n",
    "plt.show()"
   ]
  },
  {
   "cell_type": "markdown",
   "id": "1dcfd8ca",
   "metadata": {
    "papermill": {
     "duration": 0.010326,
     "end_time": "2025-04-28T19:33:33.632668",
     "exception": false,
     "start_time": "2025-04-28T19:33:33.622342",
     "status": "completed"
    },
    "tags": []
   },
   "source": [
    "#### The chart confirms that the correlation between total step count and calories burned is positive. Considering the previous analysis on sedentary behavior, one recommendation that can be given to users is to go for walks: they may not enjoy playing sports, but walking is a great form of physical activity that is often underestimated.\n",
    "\n",
    "#### That said, let's look at the percentage of users who walk, on average, more than 10,000 steps per day, which is recommended as a good goal for maintaining an active and healthy lifestyle, with benefits such as improved cardiovascular health and reduced stress, among others."
   ]
  },
  {
   "cell_type": "code",
   "execution_count": 21,
   "id": "f1721606",
   "metadata": {
    "execution": {
     "iopub.execute_input": "2025-04-28T19:33:33.655842Z",
     "iopub.status.busy": "2025-04-28T19:33:33.655150Z",
     "iopub.status.idle": "2025-04-28T19:33:33.660623Z",
     "shell.execute_reply": "2025-04-28T19:33:33.659815Z"
    },
    "papermill": {
     "duration": 0.018719,
     "end_time": "2025-04-28T19:33:33.662113",
     "exception": false,
     "start_time": "2025-04-28T19:33:33.643394",
     "status": "completed"
    },
    "tags": []
   },
   "outputs": [
    {
     "name": "stdout",
     "output_type": "stream",
     "text": [
      "21% of the app's users walk, on average, more than 10,000 steps per day.\n"
     ]
    }
   ],
   "source": [
    "percentage = round((len(mean_steps[mean_steps > 10000]) / len(mean_steps)) * 100)\n",
    "print(f\"{percentage}% of the app's users walk, on average, more than 10,000 steps per day.\")"
   ]
  },
  {
   "cell_type": "markdown",
   "id": "94b6f285",
   "metadata": {
    "papermill": {
     "duration": 0.010733,
     "end_time": "2025-04-28T19:33:33.683693",
     "exception": false,
     "start_time": "2025-04-28T19:33:33.672960",
     "status": "completed"
    },
    "tags": []
   },
   "source": [
    "#### This provides further evidence of users’ generally low activity levels, since only a very small percentage complete the required daily steps. Therefore, as mentioned earlier, encouraging them, via the app, to go for a walk is a good option.\n",
    "\n",
    "#### Next, let’s examine the correlation between calories burned and each recorded user activity level. This will give us a broader view of how important activity is."
   ]
  },
  {
   "cell_type": "code",
   "execution_count": 22,
   "id": "7c71f601",
   "metadata": {
    "execution": {
     "iopub.execute_input": "2025-04-28T19:33:33.706741Z",
     "iopub.status.busy": "2025-04-28T19:33:33.706394Z",
     "iopub.status.idle": "2025-04-28T19:33:34.080453Z",
     "shell.execute_reply": "2025-04-28T19:33:34.079693Z"
    },
    "papermill": {
     "duration": 0.388169,
     "end_time": "2025-04-28T19:33:34.082660",
     "exception": false,
     "start_time": "2025-04-28T19:33:33.694491",
     "status": "completed"
    },
    "tags": []
   },
   "outputs": [
    {
     "data": {
      "image/png": "[encoded data removed]",
      "text/plain": [
       "<Figure size 800x600 with 2 Axes>"
      ]
     },
     "metadata": {},
     "output_type": "display_data"
    }
   ],
   "source": [
    "# First i need to create a correlation matrix for activity metrics and calories\n",
    "activity_cols = ['total_steps', 'very_active_minutes', 'fairly_active_minutes',\n",
    "                 'lightly_active_minutes', 'sedentary_minutes', 'calories']\n",
    "correlation = merged[activity_cols].corr()\n",
    "\n",
    "plt.figure(figsize=(8, 6))\n",
    "sns.heatmap(correlation, annot=True, cmap='coolwarm', center=0)\n",
    "plt.title('Correlation between Activity Metrics and Calories', size=18)\n",
    "plt.show()"
   ]
  },
  {
   "cell_type": "markdown",
   "id": "690532bb",
   "metadata": {
    "papermill": {
     "duration": 0.013145,
     "end_time": "2025-04-28T19:33:34.108814",
     "exception": false,
     "start_time": "2025-04-28T19:33:34.095669",
     "status": "completed"
    },
    "tags": []
   },
   "source": [
    "#### We confirm once again that the correlation between total steps and calories burned is positive and strong. The same applies to very active minutes, which show the strongest correlation among all variables. This means that high-intensity activities (such as running or intense exercise) have a significant impact on calories burned.\n",
    "\n",
    "#### Then, we observe that the correlation decreases as the intensity of the activity decreases. That is, fairly active and lightly active minutes also contribute to calorie burn, but to a smaller degree.\n",
    "\n",
    "#### Finally, sedentary behavior is slightly negatively correlated with calories burned. As expected, increased inactive time is associated with fewer calories burned.\n",
    "\n"
   ]
  },
  {
   "cell_type": "markdown",
   "id": "7f954c05",
   "metadata": {
    "papermill": {
     "duration": 0.012655,
     "end_time": "2025-04-28T19:33:34.134408",
     "exception": false,
     "start_time": "2025-04-28T19:33:34.121753",
     "status": "completed"
    },
    "tags": []
   },
   "source": [
    "#### Another interesting aspect to analyze regarding physical activity time is whether it increases or decreases depending on the day of the week. Let's see if we can find some trends."
   ]
  },
  {
   "cell_type": "code",
   "execution_count": 23,
   "id": "fed91c99",
   "metadata": {
    "execution": {
     "iopub.execute_input": "2025-04-28T19:33:34.160495Z",
     "iopub.status.busy": "2025-04-28T19:33:34.160220Z",
     "iopub.status.idle": "2025-04-28T19:33:34.390622Z",
     "shell.execute_reply": "2025-04-28T19:33:34.389794Z"
    },
    "papermill": {
     "duration": 0.245382,
     "end_time": "2025-04-28T19:33:34.392150",
     "exception": false,
     "start_time": "2025-04-28T19:33:34.146768",
     "status": "completed"
    },
    "tags": []
   },
   "outputs": [
    {
     "data": {
      "image/png": "[encoded data removed]",
      "text/plain": [
       "<Figure size 1000x600 with 1 Axes>"
      ]
     },
     "metadata": {},
     "output_type": "display_data"
    }
   ],
   "source": [
    "activity_per_day = merged.groupby('week_day')['total_activity_minutes'].mean()\n",
    "weekday_order = ['Monday', 'Tuesday', 'Wednesday', 'Thursday', 'Friday', 'Saturday', 'Sunday']\n",
    "activity_per_day = activity_per_day.reindex(weekday_order)\n",
    "\n",
    "plt.figure(figsize=(10, 6))\n",
    "sns.barplot(x=activity_per_day.index, y=activity_per_day.values, palette='Set2')\n",
    "plt.title('Total Activity Per Week Day', size=18)\n",
    "plt.ylabel('Total Minutes', size=15)\n",
    "plt.xlabel('Weekday', size=15)\n",
    "plt.show()"
   ]
  },
  {
   "cell_type": "markdown",
   "id": "ab73b117",
   "metadata": {
    "papermill": {
     "duration": 0.013174,
     "end_time": "2025-04-28T19:33:34.419411",
     "exception": false,
     "start_time": "2025-04-28T19:33:34.406237",
     "status": "completed"
    },
    "tags": []
   },
   "source": [
    "#### We can see that activity levels remain relatively consistent during the weekdays, with Tuesday and Friday showing slightly higher total activity compared to other days. Saturday stands out as the most active day of the week. This likely reflects the availability of more free time during the weekend, allowing users to engage in longer or more frequent physical activities. Sunday show the lowest active day of the week, maybe used for resting at the end of the week, or more recreative family activities. "
   ]
  },
  {
   "cell_type": "markdown",
   "id": "90af96a2",
   "metadata": {
    "papermill": {
     "duration": 0.013948,
     "end_time": "2025-04-28T19:33:34.447037",
     "exception": false,
     "start_time": "2025-04-28T19:33:34.433089",
     "status": "completed"
    },
    "tags": []
   },
   "source": [
    "#### Now we are going to check if there is a correlation between the number of minutes users sleep and their physical activity. Perhaps the more rest they get, the more active they are. First, we will look at the correlation with total steps, and then with the total minutes of physical activity."
   ]
  },
  {
   "cell_type": "code",
   "execution_count": 24,
   "id": "26707e9d",
   "metadata": {
    "execution": {
     "iopub.execute_input": "2025-04-28T19:33:34.477392Z",
     "iopub.status.busy": "2025-04-28T19:33:34.477107Z",
     "iopub.status.idle": "2025-04-28T19:33:34.836455Z",
     "shell.execute_reply": "2025-04-28T19:33:34.835588Z"
    },
    "papermill": {
     "duration": 0.375942,
     "end_time": "2025-04-28T19:33:34.838420",
     "exception": false,
     "start_time": "2025-04-28T19:33:34.462478",
     "status": "completed"
    },
    "tags": []
   },
   "outputs": [
    {
     "data": {
      "image/png": "[encoded data removed]",
      "text/plain": [
       "<Figure size 640x480 with 1 Axes>"
      ]
     },
     "metadata": {},
     "output_type": "display_data"
    }
   ],
   "source": [
    "mean_steps = merged.groupby('id')['total_steps'].mean()\n",
    "mean_minutes_asleep = merged.groupby('id')['total_minutes_asleep'].mean()\n",
    "\n",
    "sns.regplot(x=mean_minutes_asleep, y=mean_steps, line_kws={'color': 'red'})\n",
    "plt.title('Correlation Between Minutes Asleep and Total Steps', size=18)\n",
    "plt.xlabel('Minutes Asleep')\n",
    "plt.ylabel('Steps')\n",
    "plt.show()"
   ]
  },
  {
   "cell_type": "code",
   "execution_count": 25,
   "id": "4e8ed779",
   "metadata": {
    "execution": {
     "iopub.execute_input": "2025-04-28T19:33:34.870132Z",
     "iopub.status.busy": "2025-04-28T19:33:34.869446Z",
     "iopub.status.idle": "2025-04-28T19:33:35.210850Z",
     "shell.execute_reply": "2025-04-28T19:33:35.209904Z"
    },
    "papermill": {
     "duration": 0.358081,
     "end_time": "2025-04-28T19:33:35.213083",
     "exception": false,
     "start_time": "2025-04-28T19:33:34.855002",
     "status": "completed"
    },
    "tags": []
   },
   "outputs": [
    {
     "data": {
      "image/png": "[encoded data removed]",
      "text/plain": [
       "<Figure size 640x480 with 1 Axes>"
      ]
     },
     "metadata": {},
     "output_type": "display_data"
    }
   ],
   "source": [
    "mean_activity_minutes = merged.groupby('id')['total_activity_minutes'].mean()\n",
    "mean_minutes_asleep = merged.groupby('id')['total_minutes_asleep'].mean()\n",
    "\n",
    "sns.regplot(x=mean_minutes_asleep, y=mean_activity_minutes, line_kws={'color': 'red'})\n",
    "plt.title('Correlation Between Minutes Asleep and Total Activity Minutes', size=18)\n",
    "plt.xlabel('Minutes Asleep')\n",
    "plt.ylabel('Activity Minutes')\n",
    "plt.show()"
   ]
  },
  {
   "cell_type": "markdown",
   "id": "3091530a",
   "metadata": {
    "papermill": {
     "duration": 0.015261,
     "end_time": "2025-04-28T19:33:35.244414",
     "exception": false,
     "start_time": "2025-04-28T19:33:35.229153",
     "status": "completed"
    },
    "tags": []
   },
   "source": [
    "#### The charts show the opposite of what we expected: for both comparisons, the correlations are slightly negative. This suggests that, for this dataset, sleeping more is not associated with increased physical activity, but rather with a slight decrease. However, since the results are contrary to expectations, weak, and possibly not significant, it would be necessary and interesting to deepen the analysis with a larger dataset to confirm this trend."
   ]
  },
  {
   "cell_type": "markdown",
   "id": "43fb6c72",
   "metadata": {
    "papermill": {
     "duration": 0.014825,
     "end_time": "2025-04-28T19:33:35.274880",
     "exception": false,
     "start_time": "2025-04-28T19:33:35.260055",
     "status": "completed"
    },
    "tags": []
   },
   "source": [
    "#### Now let's analyze how many minutes users spend awake in bed. To do this, I will first create a new dataframe with the necessary columns, namely `total_minutes_asleep` and `total_time_in_bed`, discarding null values. Then, I will subtract the sleep minutes from the total time in bed to create a column called `awake_minutes_in_bed`, which represents the minutes spent awake in bed, and can be a good metric to measure the sleep quality: less time awake in bed, best sleep rutine."
   ]
  },
  {
   "cell_type": "code",
   "execution_count": 26,
   "id": "92a99266",
   "metadata": {
    "execution": {
     "iopub.execute_input": "2025-04-28T19:33:35.305895Z",
     "iopub.status.busy": "2025-04-28T19:33:35.305592Z",
     "iopub.status.idle": "2025-04-28T19:33:35.850040Z",
     "shell.execute_reply": "2025-04-28T19:33:35.849137Z"
    },
    "papermill": {
     "duration": 0.561768,
     "end_time": "2025-04-28T19:33:35.851636",
     "exception": false,
     "start_time": "2025-04-28T19:33:35.289868",
     "status": "completed"
    },
    "tags": []
   },
   "outputs": [
    {
     "name": "stdout",
     "output_type": "stream",
     "text": [
      "Basic statistics:\n",
      "       total_minutes_asleep  total_time_in_bed  awake_minutes_in_bed\n",
      "count            410.000000         410.000000            410.000000\n",
      "mean             419.173171         458.482927             39.309756\n",
      "std              118.635918         127.455140             46.710932\n",
      "min               58.000000          61.000000              0.000000\n",
      "25%              361.000000         403.750000             17.000000\n",
      "50%              432.500000         463.000000             25.500000\n",
      "75%              490.000000         526.000000             40.000000\n",
      "max              796.000000         961.000000            371.000000\n"
     ]
    },
    {
     "data": {
      "image/png": "[encoded data removed]",
      "text/plain": [
       "<Figure size 800x600 with 1 Axes>"
      ]
     },
     "metadata": {},
     "output_type": "display_data"
    },
    {
     "data": {
      "image/png": "[encoded data removed]",
      "text/plain": [
       "<Figure size 1000x400 with 1 Axes>"
      ]
     },
     "metadata": {},
     "output_type": "display_data"
    }
   ],
   "source": [
    "# Creating new dataframe\n",
    "data_sleep = merged[['total_minutes_asleep', 'total_time_in_bed']].dropna()\n",
    "\n",
    "# Calculating awake minutes in bed\n",
    "data_sleep['awake_minutes_in_bed'] = data_sleep['total_time_in_bed'] - data_sleep['total_minutes_asleep']\n",
    "\n",
    "print(\"Basic statistics:\")\n",
    "print(data_sleep.describe())\n",
    "\n",
    "# Histogram:\n",
    "plt.figure(figsize=(8, 6))\n",
    "sns.histplot(data_sleep['awake_minutes_in_bed'], bins=30, kde=True, color='lightcoral')\n",
    "plt.title('Distribution of Awake Minutes While in Bed')\n",
    "plt.xlabel('Awake Minutes in Bed')\n",
    "plt.ylabel('Frequency')\n",
    "plt.show()\n",
    "\n",
    "# Boxplot:\n",
    "plt.figure(figsize=(10, 4))\n",
    "sns.boxplot(x=data_sleep['awake_minutes_in_bed'], color='lightcoral')\n",
    "plt.title('Boxplot of Awake Minutes in Bed')\n",
    "plt.xlabel('Awake Minutes')\n",
    "plt.show()\n"
   ]
  },
  {
   "cell_type": "markdown",
   "id": "10b3d9d7",
   "metadata": {
    "papermill": {
     "duration": 0.017572,
     "end_time": "2025-04-28T19:33:35.885909",
     "exception": false,
     "start_time": "2025-04-28T19:33:35.868337",
     "status": "completed"
    },
    "tags": []
   },
   "source": [
    "#### The `describe()` function gives us basic statistics that help interpret the visualizations and show us, for example, that users spend on average per day:\n",
    "\n",
    "* **419 minutes sleeping**  \n",
    "* **458 minutes in bed** \n",
    "* **39 minutes awake in bed**\n",
    "\n",
    "#### It also shows us the maximum and minimum values, and in this case we found that:\n",
    "\n",
    "* **The maximum number of minutes asleep in a day was 796 minutes, that's 13 hours! This could be due to split records, such as a nap on the same day. It may be considered an outlier.**\n",
    "* **The maximum number of minutes awake in bed is also striking: 371 minutes, or 6 hours! Like the previous point, this could be considered an outlier caused by multiple entries on the same day.**\n",
    "\n",
    "#### Lastly, the median, meaning 50% of users, spend **25.5 minutes or less** awake in bed per day.\n",
    "\n",
    "#### In the histogram, we see that most users spend approximately between **17 and 40 minutes** awake in bed each day (as shown in the basic statistics table by looking at the quartiles).\n",
    "\n",
    "#### Finally, the boxplot clearly highlights the outliers, the points outside the \"whiskers\" of the box. Meanwhile, the box itself represents the range between the first and third quartiles, which contains the central 50% of the data. The line inside the box indicates the median, in this case, 25.5 minutes."
   ]
  },
  {
   "cell_type": "markdown",
   "id": "86b00f1a",
   "metadata": {
    "papermill": {
     "duration": 0.016281,
     "end_time": "2025-04-28T19:33:35.918408",
     "exception": false,
     "start_time": "2025-04-28T19:33:35.902127",
     "status": "completed"
    },
    "tags": []
   },
   "source": [
    "## Final Conclusions\n",
    "\n",
    "#### After analyzing the Fitbit dataset, we found several key insights. First, it's important to clarify that the dataset size is limited: it only includes data from 30 users over a single month. Therefore, the following recommendations should be taken with caution and ideally validated using a larger dataset, potentially including more variables such as age, gender, or user location.\n",
    "\n",
    "### **Sedentary Behavior:**\n",
    "  #### As observed, most users spend the majority of their time without engaging in any physical activity. Bellabeat could consider sending notifications to users who remain sedentary for extended periods, reminding them of the importance of physical movement. Very few users meet the recommended daily step count, so encouraging walks might be a valuable suggestion. These reminders could be made customizable based on the time of day or user activity preferences.\n",
    "\n",
    "### **Sleep Patterns:**\n",
    "  #### On average, users sleep about 7 hours per day and do not spend much time awake in bed, although a few users do. The app could include tools to help improve users' sleep routines, such as reminders, meditation features, or smart alarms. It’s also worth emphasizing that studies show sleep quality tends to improve when physical activity is performed during the day.\n",
    "\n",
    "### **Usage Patterns:**\n",
    "  #### Activity levels and sleep durations vary depending on the day of the week. This suggests an opportunity to implement personalized recommendations based on individual weekly behavior trends.\n",
    "\n",
    "### **Streaks and Achievements:**\n",
    "  #### Introducing a system that rewards users for reaching activity streaks could be highly motivating. For example, awarding a badge for completing 10,000 steps on five consecutive days, with badges that can be upgraded over time, would encourage users to maintain their activity. Similar systems in other apps have shown to be effective in motivating users to keep up their habits.\n"
   ]
  }
 ],
 "metadata": {
  "kaggle": {
   "accelerator": "none",
   "dataSources": [
    {
     "datasetId": 1041311,
     "sourceId": 7746251,
     "sourceType": "datasetVersion"
    }
   ],
   "dockerImageVersionId": 31012,
   "isGpuEnabled": false,
   "isInternetEnabled": false,
   "language": "python",
   "sourceType": "notebook"
  },
  "kernelspec": {
   "display_name": "Python 3",
   "language": "python",
   "name": "python3"
  },
  "language_info": {
   "codemirror_mode": {
    "name": "ipython",
    "version": 3
   },
   "file_extension": ".py",
   "mimetype": "text/x-python",
   "name": "python",
   "nbconvert_exporter": "python",
   "pygments_lexer": "ipython3",
   "version": "3.11.11"
  },
  "papermill": {
   "default_parameters": {},
   "duration": 13.737006,
   "end_time": "2025-04-28T19:33:36.655191",
   "environment_variables": {},
   "exception": null,
   "input_path": "__notebook__.ipynb",
   "output_path": "__notebook__.ipynb",
   "parameters": {},
   "start_time": "2025-04-28T19:33:22.918185",
   "version": "2.6.0"
  }
 },
 "nbformat": 4,
 "nbformat_minor": 5
}
